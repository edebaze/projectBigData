{
 "cells": [
  {
   "cell_type": "markdown",
   "metadata": {},
   "source": [
    "# Projet de BIG DATA  - fiche de route\n",
    "\n",
    "### *Prédiction de consommation électrique*\n",
    "\n",
    "##### Objectif : \n",
    "- *Déterminer les paramètres responsables de la consommation d'énergie d'un bâtiment*\n",
    "- *Utiliser ces paramètres pour prédire la consommation future du bâtiment*\n",
    "\n",
    "##### Présentation des données : \n",
    "\n",
    "Nous disposons d'un fichier excel comprennant 10 ans de relevés de la Puissance Active d'un petit bureau à intervalle de 30 minutes.\n",
    "\n",
    "- Superficie : \n",
    "- Année de construction : \n",
    "- ...\n",
    "- Ville : \n",
    "\n",
    "Nous disposons également du relevé de température de la ville provennant de la station météorologique.\n",
    "\n",
    "##### Analyse des données :\n",
    "\n",
    "Afin d'analyser nos données, nous effectuerons une aggregation sur nos données pour ressortir des indices\n"
   ]
  },
  {
   "cell_type": "markdown",
   "metadata": {},
   "source": [
    "### REQUIREMENTS (if not donwload yet)"
   ]
  },
  {
   "cell_type": "code",
   "execution_count": 1,
   "metadata": {},
   "outputs": [
    {
     "name": "stdout",
     "output_type": "stream",
     "text": [
      "Requirement already satisfied: azure-cosmos in c:\\users\\etienne\\anaconda3\\lib\\site-packages (4.2.0)\n",
      "Requirement already satisfied: six>=1.6 in c:\\users\\etienne\\anaconda3\\lib\\site-packages (from azure-cosmos) (1.15.0)\n",
      "Requirement already satisfied: azure-core<2.0.0,>=1.0.0 in c:\\users\\etienne\\anaconda3\\lib\\site-packages (from azure-cosmos) (1.13.0)\n",
      "Requirement already satisfied: requests>=2.18.4 in c:\\users\\etienne\\anaconda3\\lib\\site-packages (from azure-core<2.0.0,>=1.0.0->azure-cosmos) (2.22.0)\n",
      "Requirement already satisfied: urllib3!=1.25.0,!=1.25.1,<1.26,>=1.21.1 in c:\\users\\etienne\\anaconda3\\lib\\site-packages (from requests>=2.18.4->azure-core<2.0.0,>=1.0.0->azure-cosmos) (1.24.2)\n",
      "Requirement already satisfied: certifi>=2017.4.17 in c:\\users\\etienne\\anaconda3\\lib\\site-packages (from requests>=2.18.4->azure-core<2.0.0,>=1.0.0->azure-cosmos) (2019.9.11)\n",
      "Requirement already satisfied: idna<2.9,>=2.5 in c:\\users\\etienne\\anaconda3\\lib\\site-packages (from requests>=2.18.4->azure-core<2.0.0,>=1.0.0->azure-cosmos) (2.8)\n",
      "Requirement already satisfied: chardet<3.1.0,>=3.0.2 in c:\\users\\etienne\\anaconda3\\lib\\site-packages (from requests>=2.18.4->azure-core<2.0.0,>=1.0.0->azure-cosmos) (3.0.4)\n",
      "Requirement already satisfied: pandas in c:\\users\\etienne\\anaconda3\\lib\\site-packages (0.25.1)\n",
      "Requirement already satisfied: numpy>=1.13.3 in c:\\users\\etienne\\anaconda3\\lib\\site-packages (from pandas) (1.19.5)\n",
      "Requirement already satisfied: python-dateutil>=2.6.1 in c:\\users\\etienne\\anaconda3\\lib\\site-packages (from pandas) (2.8.0)\n",
      "Requirement already satisfied: pytz>=2017.2 in c:\\users\\etienne\\anaconda3\\lib\\site-packages (from pandas) (2019.3)\n",
      "Requirement already satisfied: six>=1.5 in c:\\users\\etienne\\anaconda3\\lib\\site-packages (from python-dateutil>=2.6.1->pandas) (1.15.0)\n",
      "Requirement already satisfied: matplotlib in c:\\users\\etienne\\anaconda3\\lib\\site-packages (3.1.1)\n",
      "Requirement already satisfied: cycler>=0.10 in c:\\users\\etienne\\anaconda3\\lib\\site-packages (from matplotlib) (0.10.0)\n",
      "Requirement already satisfied: kiwisolver>=1.0.1 in c:\\users\\etienne\\anaconda3\\lib\\site-packages (from matplotlib) (1.1.0)\n",
      "Requirement already satisfied: pyparsing!=2.0.4,!=2.1.2,!=2.1.6,>=2.0.1 in c:\\users\\etienne\\anaconda3\\lib\\site-packages (from matplotlib) (2.4.2)\n",
      "Requirement already satisfied: python-dateutil>=2.1 in c:\\users\\etienne\\anaconda3\\lib\\site-packages (from matplotlib) (2.8.0)\n",
      "Requirement already satisfied: numpy>=1.11 in c:\\users\\etienne\\anaconda3\\lib\\site-packages (from matplotlib) (1.19.5)\n",
      "Requirement already satisfied: six in c:\\users\\etienne\\anaconda3\\lib\\site-packages (from cycler>=0.10->matplotlib) (1.15.0)\n",
      "Requirement already satisfied: setuptools in c:\\users\\etienne\\anaconda3\\lib\\site-packages (from kiwisolver>=1.0.1->matplotlib) (52.0.0)\n"
     ]
    }
   ],
   "source": [
    "!pip install azure-cosmos\n",
    "!pip install pandas\n",
    "!pip install matplotlib"
   ]
  },
  {
   "cell_type": "markdown",
   "metadata": {},
   "source": [
    "#### ------------------------------------------------------------------------------------------------------------------------------------------------\n",
    "### ETAPE 1 : Création du dataset et upload sur CosmosDb"
   ]
  },
  {
   "cell_type": "markdown",
   "metadata": {},
   "source": [
    "### Dataset Creation"
   ]
  },
  {
   "cell_type": "markdown",
   "metadata": {},
   "source": [
    "##### Initialisation"
   ]
  },
  {
   "cell_type": "code",
   "execution_count": 2,
   "metadata": {},
   "outputs": [],
   "source": [
    "import pandas as pd\n",
    "from matplotlib import pyplot as plt\n",
    "\n",
    "FILE_PATH_ENERGY = './active_power.xlsx'      # path to the energy consumption data file\n",
    "FILE_PATH_WEATHER = './seattle_weather.xlsx'  # path to the weather data file\n",
    "DATE_COLNAME = 'DateTime'                     # name of the Date column"
   ]
  },
  {
   "cell_type": "markdown",
   "metadata": {},
   "source": [
    "##### FUNCTIONS"
   ]
  },
  {
   "cell_type": "code",
   "execution_count": 3,
   "metadata": {},
   "outputs": [],
   "source": [
    "def drop_unnamed(df: pd.DataFrame) -> None:\n",
    "    \"\"\" CLEAN FUNCTION : Remove unnamed columns from dataframe\"\"\"\n",
    "    filter_col = [col for col in df if col.startswith('Unnamed')]\n",
    "    df.drop(columns=filter_col, inplace=True)"
   ]
  },
  {
   "cell_type": "markdown",
   "metadata": {},
   "source": [
    "##### Load Excels (energy consumption and weather) "
   ]
  },
  {
   "cell_type": "code",
   "execution_count": 4,
   "metadata": {},
   "outputs": [],
   "source": [
    "df = pd.read_excel(FILE_PATH_ENERGY, index_col=DATE_COLNAME, parse_dates=True)\n",
    "df_weather = pd.read_excel(FILE_PATH_WEATHER, index_col=DATE_COLNAME, parse_dates=True)"
   ]
  },
  {
   "cell_type": "markdown",
   "metadata": {},
   "source": [
    "##### Clean data frames"
   ]
  },
  {
   "cell_type": "code",
   "execution_count": 5,
   "metadata": {},
   "outputs": [],
   "source": [
    "drop_unnamed(df)\n",
    "drop_unnamed(df_weather)"
   ]
  },
  {
   "cell_type": "markdown",
   "metadata": {},
   "source": [
    "##### Present data"
   ]
  },
  {
   "cell_type": "code",
   "execution_count": 6,
   "metadata": {},
   "outputs": [
    {
     "data": {
      "text/html": [
       "<div>\n",
       "<style scoped>\n",
       "    .dataframe tbody tr th:only-of-type {\n",
       "        vertical-align: middle;\n",
       "    }\n",
       "\n",
       "    .dataframe tbody tr th {\n",
       "        vertical-align: top;\n",
       "    }\n",
       "\n",
       "    .dataframe thead th {\n",
       "        text-align: right;\n",
       "    }\n",
       "</style>\n",
       "<table border=\"1\" class=\"dataframe\">\n",
       "  <thead>\n",
       "    <tr style=\"text-align: right;\">\n",
       "      <th></th>\n",
       "      <th>Value</th>\n",
       "    </tr>\n",
       "    <tr>\n",
       "      <th>DateTime</th>\n",
       "      <th></th>\n",
       "    </tr>\n",
       "  </thead>\n",
       "  <tbody>\n",
       "    <tr>\n",
       "      <td>1998-01-01 00:00:00</td>\n",
       "      <td>2.114009</td>\n",
       "    </tr>\n",
       "    <tr>\n",
       "      <td>1998-01-01 00:30:01</td>\n",
       "      <td>2.114009</td>\n",
       "    </tr>\n",
       "    <tr>\n",
       "      <td>1998-01-01 01:00:02</td>\n",
       "      <td>2.114009</td>\n",
       "    </tr>\n",
       "    <tr>\n",
       "      <td>1998-01-01 01:30:03</td>\n",
       "      <td>2.114009</td>\n",
       "    </tr>\n",
       "    <tr>\n",
       "      <td>1998-01-01 02:00:04</td>\n",
       "      <td>2.114009</td>\n",
       "    </tr>\n",
       "    <tr>\n",
       "      <td>...</td>\n",
       "      <td>...</td>\n",
       "    </tr>\n",
       "    <tr>\n",
       "      <td>2014-12-31 08:13:55</td>\n",
       "      <td>2.114009</td>\n",
       "    </tr>\n",
       "    <tr>\n",
       "      <td>2014-12-31 08:43:56</td>\n",
       "      <td>2.114009</td>\n",
       "    </tr>\n",
       "    <tr>\n",
       "      <td>2014-12-31 09:13:57</td>\n",
       "      <td>2.114009</td>\n",
       "    </tr>\n",
       "    <tr>\n",
       "      <td>2014-12-31 09:43:58</td>\n",
       "      <td>2.255381</td>\n",
       "    </tr>\n",
       "    <tr>\n",
       "      <td>2014-12-31 10:13:59</td>\n",
       "      <td>2.169446</td>\n",
       "    </tr>\n",
       "  </tbody>\n",
       "</table>\n",
       "<p>297840 rows × 1 columns</p>\n",
       "</div>"
      ],
      "text/plain": [
       "                        Value\n",
       "DateTime                     \n",
       "1998-01-01 00:00:00  2.114009\n",
       "1998-01-01 00:30:01  2.114009\n",
       "1998-01-01 01:00:02  2.114009\n",
       "1998-01-01 01:30:03  2.114009\n",
       "1998-01-01 02:00:04  2.114009\n",
       "...                       ...\n",
       "2014-12-31 08:13:55  2.114009\n",
       "2014-12-31 08:43:56  2.114009\n",
       "2014-12-31 09:13:57  2.114009\n",
       "2014-12-31 09:43:58  2.255381\n",
       "2014-12-31 10:13:59  2.169446\n",
       "\n",
       "[297840 rows x 1 columns]"
      ]
     },
     "execution_count": 6,
     "metadata": {},
     "output_type": "execute_result"
    }
   ],
   "source": [
    "df       "
   ]
  },
  {
   "cell_type": "code",
   "execution_count": 7,
   "metadata": {},
   "outputs": [
    {
     "data": {
      "text/html": [
       "<div>\n",
       "<style scoped>\n",
       "    .dataframe tbody tr th:only-of-type {\n",
       "        vertical-align: middle;\n",
       "    }\n",
       "\n",
       "    .dataframe tbody tr th {\n",
       "        vertical-align: top;\n",
       "    }\n",
       "\n",
       "    .dataframe thead th {\n",
       "        text-align: right;\n",
       "    }\n",
       "</style>\n",
       "<table border=\"1\" class=\"dataframe\">\n",
       "  <thead>\n",
       "    <tr style=\"text-align: right;\">\n",
       "      <th></th>\n",
       "      <th>Temperature</th>\n",
       "      <th>HDD</th>\n",
       "      <th>CDD</th>\n",
       "    </tr>\n",
       "    <tr>\n",
       "      <th>DateTime</th>\n",
       "      <th></th>\n",
       "      <th></th>\n",
       "      <th></th>\n",
       "    </tr>\n",
       "  </thead>\n",
       "  <tbody>\n",
       "    <tr>\n",
       "      <td>1998-01-01 00:00:00</td>\n",
       "      <td>7.220000</td>\n",
       "      <td>-8.835</td>\n",
       "      <td>14.945</td>\n",
       "    </tr>\n",
       "    <tr>\n",
       "      <td>1998-01-01 01:00:00</td>\n",
       "      <td>7.593333</td>\n",
       "      <td>-8.835</td>\n",
       "      <td>14.945</td>\n",
       "    </tr>\n",
       "    <tr>\n",
       "      <td>1998-01-01 02:00:00</td>\n",
       "      <td>7.780000</td>\n",
       "      <td>-8.835</td>\n",
       "      <td>14.945</td>\n",
       "    </tr>\n",
       "    <tr>\n",
       "      <td>1998-01-01 03:00:00</td>\n",
       "      <td>7.780000</td>\n",
       "      <td>-8.835</td>\n",
       "      <td>14.945</td>\n",
       "    </tr>\n",
       "    <tr>\n",
       "      <td>1998-01-01 04:00:00</td>\n",
       "      <td>8.330000</td>\n",
       "      <td>-8.835</td>\n",
       "      <td>14.945</td>\n",
       "    </tr>\n",
       "    <tr>\n",
       "      <td>...</td>\n",
       "      <td>...</td>\n",
       "      <td>...</td>\n",
       "      <td>...</td>\n",
       "    </tr>\n",
       "    <tr>\n",
       "      <td>2015-01-01 19:00:00</td>\n",
       "      <td>1.670000</td>\n",
       "      <td>-13.000</td>\n",
       "      <td>20.220</td>\n",
       "    </tr>\n",
       "    <tr>\n",
       "      <td>2015-01-01 20:00:00</td>\n",
       "      <td>0.560000</td>\n",
       "      <td>-13.000</td>\n",
       "      <td>20.220</td>\n",
       "    </tr>\n",
       "    <tr>\n",
       "      <td>2015-01-01 21:00:00</td>\n",
       "      <td>0.000000</td>\n",
       "      <td>-13.000</td>\n",
       "      <td>20.220</td>\n",
       "    </tr>\n",
       "    <tr>\n",
       "      <td>2015-01-01 22:00:00</td>\n",
       "      <td>0.555000</td>\n",
       "      <td>-13.000</td>\n",
       "      <td>20.220</td>\n",
       "    </tr>\n",
       "    <tr>\n",
       "      <td>2015-01-01 23:00:00</td>\n",
       "      <td>0.000000</td>\n",
       "      <td>-13.000</td>\n",
       "      <td>20.220</td>\n",
       "    </tr>\n",
       "  </tbody>\n",
       "</table>\n",
       "<p>149040 rows × 3 columns</p>\n",
       "</div>"
      ],
      "text/plain": [
       "                     Temperature     HDD     CDD\n",
       "DateTime                                        \n",
       "1998-01-01 00:00:00     7.220000  -8.835  14.945\n",
       "1998-01-01 01:00:00     7.593333  -8.835  14.945\n",
       "1998-01-01 02:00:00     7.780000  -8.835  14.945\n",
       "1998-01-01 03:00:00     7.780000  -8.835  14.945\n",
       "1998-01-01 04:00:00     8.330000  -8.835  14.945\n",
       "...                          ...     ...     ...\n",
       "2015-01-01 19:00:00     1.670000 -13.000  20.220\n",
       "2015-01-01 20:00:00     0.560000 -13.000  20.220\n",
       "2015-01-01 21:00:00     0.000000 -13.000  20.220\n",
       "2015-01-01 22:00:00     0.555000 -13.000  20.220\n",
       "2015-01-01 23:00:00     0.000000 -13.000  20.220\n",
       "\n",
       "[149040 rows x 3 columns]"
      ]
     },
     "execution_count": 7,
     "metadata": {},
     "output_type": "execute_result"
    }
   ],
   "source": [
    "df_weather"
   ]
  },
  {
   "cell_type": "code",
   "execution_count": 8,
   "metadata": {},
   "outputs": [
    {
     "data": {
      "text/plain": [
       "297840"
      ]
     },
     "execution_count": 8,
     "metadata": {},
     "output_type": "execute_result"
    }
   ],
   "source": [
    "df.size"
   ]
  },
  {
   "cell_type": "code",
   "execution_count": 9,
   "metadata": {},
   "outputs": [
    {
     "data": {
      "text/plain": [
       "447120"
      ]
     },
     "execution_count": 9,
     "metadata": {},
     "output_type": "execute_result"
    }
   ],
   "source": [
    "df_weather.size"
   ]
  },
  {
   "cell_type": "markdown",
   "metadata": {},
   "source": [
    "##### resample on the same time interval / frequency"
   ]
  },
  {
   "cell_type": "code",
   "execution_count": 10,
   "metadata": {},
   "outputs": [
    {
     "data": {
      "text/plain": [
       "(Timestamp('1998-01-01 00:00:00', freq='H'),\n",
       " Timestamp('2014-12-31 10:00:00', freq='H'))"
      ]
     },
     "execution_count": 10,
     "metadata": {},
     "output_type": "execute_result"
    }
   ],
   "source": [
    "# set active power on a 1 hour interval\n",
    "df = df.resample('H').mean()           \n",
    "\n",
    "# find first and last common date between weather data and consumption data\n",
    "first_date = max(df.index[0], df_weather.index[0])\n",
    "last_date = min(df.index[-1], df_weather.index[-1])\n",
    "\n",
    "first_date, last_date"
   ]
  },
  {
   "cell_type": "markdown",
   "metadata": {},
   "source": [
    "##### set both dfs on the same time index"
   ]
  },
  {
   "cell_type": "code",
   "execution_count": 11,
   "metadata": {},
   "outputs": [],
   "source": [
    "df = df[first_date:last_date]\n",
    "df_weather = df_weather[first_date:last_date]"
   ]
  },
  {
   "cell_type": "markdown",
   "metadata": {},
   "source": [
    "##### concat dataframes"
   ]
  },
  {
   "cell_type": "code",
   "execution_count": 12,
   "metadata": {},
   "outputs": [],
   "source": [
    "df = pd.concat([df, df_weather], axis=1)"
   ]
  },
  {
   "cell_type": "code",
   "execution_count": 13,
   "metadata": {},
   "outputs": [
    {
     "data": {
      "text/html": [
       "<div>\n",
       "<style scoped>\n",
       "    .dataframe tbody tr th:only-of-type {\n",
       "        vertical-align: middle;\n",
       "    }\n",
       "\n",
       "    .dataframe tbody tr th {\n",
       "        vertical-align: top;\n",
       "    }\n",
       "\n",
       "    .dataframe thead th {\n",
       "        text-align: right;\n",
       "    }\n",
       "</style>\n",
       "<table border=\"1\" class=\"dataframe\">\n",
       "  <thead>\n",
       "    <tr style=\"text-align: right;\">\n",
       "      <th></th>\n",
       "      <th>Value</th>\n",
       "      <th>Temperature</th>\n",
       "      <th>HDD</th>\n",
       "      <th>CDD</th>\n",
       "    </tr>\n",
       "    <tr>\n",
       "      <th>DateTime</th>\n",
       "      <th></th>\n",
       "      <th></th>\n",
       "      <th></th>\n",
       "      <th></th>\n",
       "    </tr>\n",
       "  </thead>\n",
       "  <tbody>\n",
       "    <tr>\n",
       "      <td>1998-01-01 00:00:00</td>\n",
       "      <td>2.114009</td>\n",
       "      <td>7.220000</td>\n",
       "      <td>-8.835</td>\n",
       "      <td>14.945</td>\n",
       "    </tr>\n",
       "    <tr>\n",
       "      <td>1998-01-01 01:00:00</td>\n",
       "      <td>2.114009</td>\n",
       "      <td>7.593333</td>\n",
       "      <td>-8.835</td>\n",
       "      <td>14.945</td>\n",
       "    </tr>\n",
       "    <tr>\n",
       "      <td>1998-01-01 02:00:00</td>\n",
       "      <td>2.114009</td>\n",
       "      <td>7.780000</td>\n",
       "      <td>-8.835</td>\n",
       "      <td>14.945</td>\n",
       "    </tr>\n",
       "    <tr>\n",
       "      <td>1998-01-01 03:00:00</td>\n",
       "      <td>2.114009</td>\n",
       "      <td>7.780000</td>\n",
       "      <td>-8.835</td>\n",
       "      <td>14.945</td>\n",
       "    </tr>\n",
       "    <tr>\n",
       "      <td>1998-01-01 04:00:00</td>\n",
       "      <td>2.114009</td>\n",
       "      <td>8.330000</td>\n",
       "      <td>-8.835</td>\n",
       "      <td>14.945</td>\n",
       "    </tr>\n",
       "  </tbody>\n",
       "</table>\n",
       "</div>"
      ],
      "text/plain": [
       "                        Value  Temperature    HDD     CDD\n",
       "DateTime                                                 \n",
       "1998-01-01 00:00:00  2.114009     7.220000 -8.835  14.945\n",
       "1998-01-01 01:00:00  2.114009     7.593333 -8.835  14.945\n",
       "1998-01-01 02:00:00  2.114009     7.780000 -8.835  14.945\n",
       "1998-01-01 03:00:00  2.114009     7.780000 -8.835  14.945\n",
       "1998-01-01 04:00:00  2.114009     8.330000 -8.835  14.945"
      ]
     },
     "execution_count": 13,
     "metadata": {},
     "output_type": "execute_result"
    }
   ],
   "source": [
    "df.head()"
   ]
  },
  {
   "cell_type": "markdown",
   "metadata": {},
   "source": [
    "##### plot data"
   ]
  },
  {
   "cell_type": "code",
   "execution_count": 14,
   "metadata": {},
   "outputs": [
    {
     "data": {
      "image/png": "[encoded data removed]",
      "text/plain": [
       "<Figure size 432x288 with 1 Axes>"
      ]
     },
     "metadata": {
      "needs_background": "light"
     },
     "output_type": "display_data"
    }
   ],
   "source": [
    "df[['Temperature', 'Value']][-500:].plot()\n",
    "plt.show()"
   ]
  },
  {
   "cell_type": "markdown",
   "metadata": {},
   "source": [
    "On voit ici que la température ne semble pas correlée à la consommation d'énergie.\n",
    "On en déduit que le bâtiment ne dispose pas d'un système de chauffage / refroidissement électrique"
   ]
  },
  {
   "cell_type": "code",
   "execution_count": 15,
   "metadata": {
    "scrolled": true
   },
   "outputs": [
    {
     "data": {
      "image/png": "[encoded data removed]",
      "text/plain": [
       "<Figure size 432x288 with 1 Axes>"
      ]
     },
     "metadata": {
      "needs_background": "light"
     },
     "output_type": "display_data"
    }
   ],
   "source": [
    "df_3months = df.resample('3M').mean()\n",
    "df_3months[['CDD', 'Value']][-50:].plot()\n",
    "plt.show()"
   ]
  },
  {
   "cell_type": "markdown",
   "metadata": {},
   "source": [
    "### Data ingestion to CosmosDb"
   ]
  },
  {
   "cell_type": "code",
   "execution_count": 16,
   "metadata": {},
   "outputs": [],
   "source": [
    "import pymongo"
   ]
  },
  {
   "cell_type": "markdown",
   "metadata": {},
   "source": [
    "##### create the connection"
   ]
  },
  {
   "cell_type": "code",
   "execution_count": 17,
   "metadata": {},
   "outputs": [],
   "source": [
    "uri = \"mongodb://edebaze-bigdata:dYDiQy8VEqwnaGjZVXKtlGkExtSuo1UFOAIKmHA0FqTyFIOAbodJUxjcgVyMQuKTR2ZncpnqQ3YfolZhdU9gBw==@edebaze-bigdata.mongo.cosmos.azure.com:10255/?ssl=true&retrywrites=false&replicaSet=globaldb&maxIdleTimeMS=120000&appName=@edebaze-bigdata@\"\n",
    "client = pymongo.MongoClient(uri)"
   ]
  },
  {
   "cell_type": "markdown",
   "metadata": {},
   "source": [
    "##### connect to the collections of the EnergyForecasting database"
   ]
  },
  {
   "cell_type": "code",
   "execution_count": 18,
   "metadata": {},
   "outputs": [],
   "source": [
    "db = client.EnergyForecasting\n",
    "energy_consumption_collection = db.energy_consumption\n",
    "weather_collection = db.weather"
   ]
  },
  {
   "cell_type": "markdown",
   "metadata": {},
   "source": [
    "##### update data to the collections"
   ]
  },
  {
   "cell_type": "code",
   "execution_count": 20,
   "metadata": {},
   "outputs": [],
   "source": [
    "for index, row in df.iterrows() :\n",
    "    # ENERGY CONSUMPTION DATA\n",
    "    # -- create energy data\n",
    "    ec_data = {\n",
    "        DATE_COLNAME: index,\n",
    "        \"consumption\": row.Value\n",
    "    }\n",
    "    # -- push data to collection\n",
    "    energy_consumption_collection.insert_one(ec_data)\n",
    "\n",
    "    # WEATHER DATA\n",
    "    # -- create weather data\n",
    "    weather_data = {\n",
    "        DATE_COLNAME: index,\n",
    "        \"temperature\": row.Temperature,\n",
    "        \"hdd\": row.HDD,\n",
    "        \"cdd\": row.CDD,\n",
    "    }\n",
    "    # -- push data to collection\n",
    "    weather_collection.insert_one(weather_data)"
   ]
  },
  {
   "cell_type": "markdown",
   "metadata": {},
   "source": [
    "The data is uploaded to CosmosDb, now we can do SQL requests ton interact with it"
   ]
  },
  {
   "cell_type": "markdown",
   "metadata": {},
   "source": [
    "#### ------------------------------------------------------------------------------------------------------------------------------------------------\n",
    "### ETAPE 2 : SQL REQUESTS"
   ]
  },
  {
   "cell_type": "code",
   "execution_count": 21,
   "metadata": {},
   "outputs": [
    {
     "name": "stdout",
     "output_type": "stream",
     "text": [
      "{'_id': ObjectId('606dd3eebdabd03f267c0b96'), 'DateTime': datetime.datetime(1998, 1, 1, 0, 0), 'consumption': 2.1140093842}\n"
     ]
    }
   ],
   "source": [
    "for data in energy_consumption_collection.find():\n",
    "    print(data)\n",
    "    break;"
   ]
  },
  {
   "cell_type": "code",
   "execution_count": null,
   "metadata": {},
   "outputs": [],
   "source": [
    "energy_consumption_collection"
   ]
  }
 ],
 "metadata": {
  "kernelspec": {
   "display_name": "Python 3",
   "language": "python",
   "name": "python3"
  },
  "language_info": {
   "codemirror_mode": {
    "name": "ipython",
    "version": 3
   },
   "file_extension": ".py",
   "mimetype": "text/x-python",
   "name": "python",
   "nbconvert_exporter": "python",
   "pygments_lexer": "ipython3",
   "version": "3.7.4"
  }
 },
 "nbformat": 4,
 "nbformat_minor": 2
}
